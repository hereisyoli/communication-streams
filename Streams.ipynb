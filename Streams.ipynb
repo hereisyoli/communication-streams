{
 "cells": [
  {
   "cell_type": "markdown",
   "id": "2401ac4a",
   "metadata": {},
   "source": [
    "# Streams, Pipes, and Redirection "
   ]
  },
  {
   "cell_type": "markdown",
   "id": "b39ed1ec",
   "metadata": {},
   "source": [
    "1. What is streams?\n",
    "2. How does it work?\n",
    "3. Power of operating streams"
   ]
  },
  {
   "cell_type": "markdown",
   "id": "1d0f6f48",
   "metadata": {},
   "source": [
    "## Terminal Streams:\n",
    "Input >> Command >> Output"
   ]
  },
  {
   "cell_type": "markdown",
   "id": "b7721d28",
   "metadata": {},
   "source": [
    "## Pipe (\" | \"): \n",
    "passing standard output of one program to the standard input to another program"
   ]
  },
  {
   "cell_type": "code",
   "execution_count": 9,
   "id": "e991916f",
   "metadata": {},
   "outputs": [
    {
     "name": "stdout",
     "output_type": "stream",
     "text": [
      "Bill.csv\r\n",
      "MSDS610-Week2-LinkedIn.pdf\r\n",
      "MSDS610-Week3-Resume.pdf\r\n",
      "Streams:pipes:redirection in the terminal.pdf\r\n",
      "USF_Career_Services_Presentation.pdf\r\n",
      "Untitled.ipynb\r\n",
      "\u001b[31mYoliWu_msds610-01.key\u001b[m\u001b[m\r\n",
      "bill_unpaid1.csv\r\n",
      "bill_unpaid2.csv\r\n",
      "split_num.py\r\n"
     ]
    }
   ],
   "source": [
    "!ls"
   ]
  },
  {
   "cell_type": "code",
   "execution_count": 8,
   "id": "cfdf4440",
   "metadata": {},
   "outputs": [
    {
     "name": "stdout",
     "output_type": "stream",
     "text": [
      "      10      13     228\r\n"
     ]
    }
   ],
   "source": [
    "!ls | wc"
   ]
  },
  {
   "cell_type": "markdown",
   "id": "b612f473",
   "metadata": {},
   "source": [
    "## Input/Output Direction (\"<\" or \">\"):\n",
    "hook process standard input/output to a file"
   ]
  },
  {
   "cell_type": "code",
   "execution_count": 12,
   "id": "0a1b3ee7",
   "metadata": {},
   "outputs": [
    {
     "name": "stdout",
     "output_type": "stream",
     "text": [
      "Name,Bill,Time,Pay\r",
      "\r\n",
      "Jams,20,16-Jul,paid\r",
      "\r\n",
      "Connie,30,30-Jul,paid\r",
      "\r\n",
      "David,20,1-Aug,paid\r",
      "\r\n",
      "Jim,30,20-Aug,paid\r",
      "\r\n"
     ]
    }
   ],
   "source": [
    "!head -5 Bill.csv > bill_shortcut.csv\n",
    "!cat bill_shortcut.csv"
   ]
  },
  {
   "cell_type": "code",
   "execution_count": 13,
   "id": "6c901680",
   "metadata": {},
   "outputs": [
    {
     "name": "stdout",
     "output_type": "stream",
     "text": [
      "Connie,30,30-Jul,paid\r",
      "\r\n",
      "David,20,1-Aug,paid\r",
      "\r\n",
      "Jams,20,16-Jul,paid\r",
      "\r\n",
      "Jim,30,20-Aug,paid\r",
      "\r\n",
      "Name,Bill,Time,Pay\r",
      "\r\n"
     ]
    }
   ],
   "source": [
    "!sort < bill_shortcut.csv"
   ]
  },
  {
   "cell_type": "markdown",
   "id": "fcaf8cf7",
   "metadata": {},
   "source": [
    "## Append:\n",
    "redirect and append output of a program to a file"
   ]
  },
  {
   "cell_type": "code",
   "execution_count": 15,
   "id": "68d7635c",
   "metadata": {},
   "outputs": [
    {
     "name": "stdout",
     "output_type": "stream",
     "text": [
      "Name,Bill,Time,Pay\r",
      "\r\n",
      "Jams,20,16-Jul,paid\r",
      "\r\n",
      "Connie,30,30-Jul,paid\r",
      "\r\n",
      "David,20,1-Aug,paid\r",
      "\r\n",
      "Jim,30,20-Aug,paid\r",
      "\r\n",
      "Wei,20,10-Sep,unpaid\r",
      "\r\n",
      "Wei,30,12-Sep,unpaid\r",
      "\r\n",
      "Wei,20,15-Sep,unpaid\r",
      "\r\n",
      "Wei,30,17-Sep,unpaid\r",
      "\r\n",
      "Wei,20,20-Sep,unpaid\r\n"
     ]
    }
   ],
   "source": [
    "!grep Wei Bill.csv >> bill_shortcut.csv\n",
    "!cat bill_shortcut.csv"
   ]
  },
  {
   "cell_type": "markdown",
   "id": "8440b868",
   "metadata": {},
   "source": [
    "## More complex in reality:"
   ]
  },
  {
   "cell_type": "code",
   "execution_count": 23,
   "id": "989b3309",
   "metadata": {},
   "outputs": [
    {
     "name": "stdout",
     "output_type": "stream",
     "text": [
      "Connie\r\n",
      "David\r\n",
      "Jams\r\n",
      "Jim\r\n",
      "Wei\r\n"
     ]
    }
   ],
   "source": [
    "!csvcut -c 1 -e latin1 Bill.csv | tail +2 | sort | uniq"
   ]
  },
  {
   "cell_type": "markdown",
   "id": "95c151c1",
   "metadata": {},
   "source": [
    "## Power of operating streams:"
   ]
  },
  {
   "cell_type": "code",
   "execution_count": 4,
   "id": "9381517e",
   "metadata": {},
   "outputs": [
    {
     "data": {
      "text/html": [
       "<div>\n",
       "<style scoped>\n",
       "    .dataframe tbody tr th:only-of-type {\n",
       "        vertical-align: middle;\n",
       "    }\n",
       "\n",
       "    .dataframe tbody tr th {\n",
       "        vertical-align: top;\n",
       "    }\n",
       "\n",
       "    .dataframe thead th {\n",
       "        text-align: right;\n",
       "    }\n",
       "</style>\n",
       "<table border=\"1\" class=\"dataframe\">\n",
       "  <thead>\n",
       "    <tr style=\"text-align: right;\">\n",
       "      <th></th>\n",
       "      <th>Name</th>\n",
       "      <th>Bill</th>\n",
       "      <th>Time</th>\n",
       "      <th>Pay</th>\n",
       "    </tr>\n",
       "  </thead>\n",
       "  <tbody>\n",
       "    <tr>\n",
       "      <th>4</th>\n",
       "      <td>Wei</td>\n",
       "      <td>20</td>\n",
       "      <td>10-Sep</td>\n",
       "      <td>unpaid</td>\n",
       "    </tr>\n",
       "    <tr>\n",
       "      <th>5</th>\n",
       "      <td>Wei</td>\n",
       "      <td>30</td>\n",
       "      <td>12-Sep</td>\n",
       "      <td>unpaid</td>\n",
       "    </tr>\n",
       "    <tr>\n",
       "      <th>6</th>\n",
       "      <td>Wei</td>\n",
       "      <td>20</td>\n",
       "      <td>15-Sep</td>\n",
       "      <td>unpaid</td>\n",
       "    </tr>\n",
       "    <tr>\n",
       "      <th>7</th>\n",
       "      <td>Wei</td>\n",
       "      <td>30</td>\n",
       "      <td>17-Sep</td>\n",
       "      <td>unpaid</td>\n",
       "    </tr>\n",
       "    <tr>\n",
       "      <th>8</th>\n",
       "      <td>Wei</td>\n",
       "      <td>20</td>\n",
       "      <td>20-Sep</td>\n",
       "      <td>unpaid</td>\n",
       "    </tr>\n",
       "  </tbody>\n",
       "</table>\n",
       "</div>"
      ],
      "text/plain": [
       "  Name  Bill    Time     Pay\n",
       "4  Wei    20  10-Sep  unpaid\n",
       "5  Wei    30  12-Sep  unpaid\n",
       "6  Wei    20  15-Sep  unpaid\n",
       "7  Wei    30  17-Sep  unpaid\n",
       "8  Wei    20  20-Sep  unpaid"
      ]
     },
     "execution_count": 4,
     "metadata": {},
     "output_type": "execute_result"
    }
   ],
   "source": [
    "# process in python\n",
    "import pandas as pd\n",
    "\n",
    "df = pd.read_csv('Bill.csv')\n",
    "df = df [df['Pay']=='unpaid']\n",
    "df = df.iloc[0:5]\n",
    "df.to_csv('bill_unpaid1.csv',sep='\\t',index=False)\n",
    "df"
   ]
  },
  {
   "cell_type": "code",
   "execution_count": 7,
   "id": "7972603e",
   "metadata": {},
   "outputs": [
    {
     "name": "stdout",
     "output_type": "stream",
     "text": [
      "Wei,20,10-Sep,unpaid\r",
      "\r\n",
      "Wei,30,12-Sep,unpaid\r",
      "\r\n",
      "Wei,20,15-Sep,unpaid\r",
      "\r\n",
      "Wei,30,17-Sep,unpaid\r",
      "\r\n",
      "Wei,20,20-Sep,unpaid\r\n"
     ]
    }
   ],
   "source": [
    "# using streams and I/O redrection\n",
    "!grep 'unpaid' Bill.csv | head -5 > bill_unpaid2.csv\n",
    "!cat 'bill_unpaid2.csv'"
   ]
  }
 ],
 "metadata": {
  "kernelspec": {
   "display_name": "Python 3 (ipykernel)",
   "language": "python",
   "name": "python3"
  },
  "language_info": {
   "codemirror_mode": {
    "name": "ipython",
    "version": 3
   },
   "file_extension": ".py",
   "mimetype": "text/x-python",
   "name": "python",
   "nbconvert_exporter": "python",
   "pygments_lexer": "ipython3",
   "version": "3.8.11"
  }
 },
 "nbformat": 4,
 "nbformat_minor": 5
}
